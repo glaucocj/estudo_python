{
  "nbformat": 4,
  "nbformat_minor": 0,
  "metadata": {
    "colab": {
      "name": "OláMundoGoogle.ipynb",
      "provenance": [],
      "authorship_tag": "ABX9TyO/q7hPQ5EdjzIjWc0x6qld"
    },
    "kernelspec": {
      "name": "python3",
      "display_name": "Python 3"
    },
    "language_info": {
      "name": "python"
    }
  },
  "cells": [
    {
      "cell_type": "code",
      "execution_count": 1,
      "metadata": {
        "colab": {
          "base_uri": "https://localhost:8080/"
        },
        "id": "QSWFUWo_tgJ5",
        "outputId": "cb19a578-bd8e-42bb-81f5-293bfec09c56"
      },
      "outputs": [
        {
          "output_type": "stream",
          "name": "stdout",
          "text": [
            "Olá Mundo!\n"
          ]
        }
      ],
      "source": [
        "print(\"Olá Mundo Google!\")"
      ]
    }
  ]
}